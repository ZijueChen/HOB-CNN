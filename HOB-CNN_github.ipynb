{
 "cells": [
  {
   "cell_type": "code",
   "execution_count": 1,
   "metadata": {},
   "outputs": [],
   "source": [
    "import tensorflow as tf\n",
    "\n",
    "import os\n",
    "import time\n",
    "import cv2\n",
    "import numpy as np\n",
    "import shutil\n",
    "from glob import glob\n",
    "\n",
    "from matplotlib import pyplot as plt"
   ]
  },
  {
   "cell_type": "code",
   "execution_count": 61,
   "metadata": {},
   "outputs": [],
   "source": [
    "# Generate cross validation train & test dataset\n",
    "folder = 'Y-shaped\\\\'\n",
    "pic = np.zeros([1,1])\n",
    "def cross_validation(validnum):\n",
    "    shutil.rmtree(folder + 'point_folder\\\\train')\n",
    "    shutil.rmtree(folder + 'point_folder\\\\test')\n",
    "    os.mkdir(folder + 'point_folder\\\\train')\n",
    "    os.mkdir(folder + 'point_folder\\\\test')\n",
    "    for i in range(5):\n",
    "        files = glob(os.path.join(folder, 'point_folder', 'group' + str(i), '*.png'))\n",
    "        if i == validnum:\n",
    "            for file in files:\n",
    "                name = list(file.split('\\\\'))[-1]\n",
    "                cv2.imwrite(folder + 'point_folder\\\\test\\\\' + name, pic)\n",
    "        else:\n",
    "            for file in files:\n",
    "                name = list(file.split('\\\\'))[-1]\n",
    "                cv2.imwrite(folder + 'point_folder\\\\train\\\\' + name, pic)\n",
    "                cv2.imwrite(folder + 'point_folder\\\\train\\\\' + 'f^' + name, pic)"
   ]
  },
  {
   "cell_type": "code",
   "execution_count": 62,
   "metadata": {},
   "outputs": [],
   "source": [
    "# Generate cross validation train & test dataset\n",
    "validnum = 4\n",
    "cross_validation(validnum)"
   ]
  },
  {
   "cell_type": "code",
   "execution_count": 63,
   "metadata": {},
   "outputs": [],
   "source": [
    "BUFFER_SIZE = 500\n",
    "BATCH_SIZE = 8\n",
    "IMG_WIDTH = 256\n",
    "IMG_HEIGHT = 256"
   ]
  },
  {
   "cell_type": "code",
   "execution_count": 65,
   "metadata": {},
   "outputs": [],
   "source": [
    "numm = 256\n",
    "RGBD_path = folder + 'RGBD_croped\\\\'\n",
    "point_path = folder + 'point_folder\\\\'\n",
    "GT_path = folder + 'GT_l_array\\\\'"
   ]
  },
  {
   "cell_type": "code",
   "execution_count": 66,
   "metadata": {},
   "outputs": [],
   "source": [
    "@tf.function\n",
    "def load_image(point_file):\n",
    "    name = tf.strings.split(point_file,'\\\\')[-1]\n",
    "\n",
    "    RGBD = tf.io.read_file(RGBD_path + name)\n",
    "    GT = tf.io.read_file(GT_path + name)\n",
    "    RGBD = tf.image.decode_png(RGBD)\n",
    "    GT = tf.image.decode_png(GT)[:, :, 0]\n",
    "    \n",
    "    RGBD = tf.cast(RGBD, tf.float32) / 255.0\n",
    "    GT = tf.reshape(GT, [numm*2]) # change here for different type of trees. Y-shaped = numm*2, grapevine/trellis = numm\n",
    "\n",
    "    return RGBD, GT"
   ]
  },
  {
   "cell_type": "code",
   "execution_count": 67,
   "metadata": {},
   "outputs": [],
   "source": [
    "output_channel = numm * 2 # change here for different type of trees. Y-shaped = 2, grapevine/trellis = numm"
   ]
  },
  {
   "cell_type": "code",
   "execution_count": 69,
   "metadata": {},
   "outputs": [],
   "source": [
    "train_dataset = tf.data.Dataset.list_files(point_path + 'train\\\\*.png')\n",
    "train_dataset = train_dataset.map(load_image,\n",
    "                                  num_parallel_calls=tf.data.experimental.AUTOTUNE)\n",
    "train_dataset = train_dataset.shuffle(BUFFER_SIZE)\n",
    "train_dataset = train_dataset.batch(BATCH_SIZE)#.repeat()"
   ]
  },
  {
   "cell_type": "code",
   "execution_count": 70,
   "metadata": {},
   "outputs": [],
   "source": [
    "test_dataset = tf.data.Dataset.list_files(point_path+'test\\\\*.png')\n",
    "test_dataset = test_dataset.map(load_image)\n",
    "test_dataset = test_dataset.batch(BATCH_SIZE)"
   ]
  },
  {
   "cell_type": "code",
   "execution_count": 71,
   "metadata": {},
   "outputs": [],
   "source": [
    "base_model = tf.keras.applications.EfficientNetB4(input_shape=[256, 256, 4], include_top=False, weights=None) # 4 channels for Y-shaped Tree, 3 for grapevine/trellis"
   ]
  },
  {
   "cell_type": "code",
   "execution_count": 72,
   "metadata": {},
   "outputs": [],
   "source": [
    "ptm = tf.keras.Model(inputs=base_model.input, outputs=base_model.output)"
   ]
  },
  {
   "cell_type": "code",
   "execution_count": 73,
   "metadata": {},
   "outputs": [],
   "source": [
    "# Fully Connection\n",
    "def IEF():\n",
    "    inputs = tf.keras.layers.Input(shape=[256,256,4]) #4 channels for Y-shaped Tree, 3 for grapevine/trellis\n",
    "    x = ptm(inputs)\n",
    "    x = tf.keras.layers.Flatten()(x)\n",
    "    x = tf.keras.layers.Dense(2048, activation='relu')(x)\n",
    "    x = tf.keras.layers.Dense(512, activation='relu')(x)\n",
    "    x = tf.keras.layers.Dense(output_channel)(x)\n",
    "\n",
    "    return tf.keras.Model(inputs=inputs, outputs=x)"
   ]
  },
  {
   "cell_type": "code",
   "execution_count": 75,
   "metadata": {},
   "outputs": [
    {
     "name": "stdout",
     "output_type": "stream",
     "text": [
      "Model: \"model_3\"\n",
      "_________________________________________________________________\n",
      "Layer (type)                 Output Shape              Param #   \n",
      "=================================================================\n",
      "input_4 (InputLayer)         [(None, 256, 256, 4)]     0         \n",
      "_________________________________________________________________\n",
      "model_2 (Functional)         (None, 8, 8, 1792)        17674257  \n",
      "_________________________________________________________________\n",
      "flatten_1 (Flatten)          (None, 114688)            0         \n",
      "_________________________________________________________________\n",
      "dense_3 (Dense)              (None, 2048)              234883072 \n",
      "_________________________________________________________________\n",
      "dense_4 (Dense)              (None, 512)               1049088   \n",
      "_________________________________________________________________\n",
      "dense_5 (Dense)              (None, 512)               262656    \n",
      "=================================================================\n",
      "Total params: 253,869,073\n",
      "Trainable params: 253,743,864\n",
      "Non-trainable params: 125,209\n",
      "_________________________________________________________________\n"
     ]
    }
   ],
   "source": [
    "model = IEF()\n",
    "model.summary()"
   ]
  },
  {
   "cell_type": "code",
   "execution_count": 76,
   "metadata": {},
   "outputs": [],
   "source": [
    "model.compile(optimizer='adam',\n",
    "             loss=tf.keras.losses.MeanSquaredError())"
   ]
  },
  {
   "cell_type": "code",
   "execution_count": 77,
   "metadata": {},
   "outputs": [],
   "source": [
    "checkpoint_filepath = 'weights_checkpoints/2_0'\n",
    "model_checkpoint_callback = tf.keras.callbacks.ModelCheckpoint(\n",
    "    filepath=checkpoint_filepath,\n",
    "    save_weights_only=True,\n",
    "    monitor='val_loss',\n",
    "    mode='min',\n",
    "    save_best_only=True)"
   ]
  },
  {
   "cell_type": "code",
   "execution_count": 78,
   "metadata": {},
   "outputs": [
    {
     "name": "stdout",
     "output_type": "stream",
     "text": [
      "436/436 [==============================] - 99s 186ms/step - loss: 753.3112 - val_loss: 387.2153\n"
     ]
    }
   ],
   "source": [
    "EPOCHS = 1\n",
    "model_history = model.fit(train_dataset, epochs=EPOCHS,\n",
    "                          validation_data=test_dataset,\n",
    "                          callbacks=[model_checkpoint_callback])"
   ]
  },
  {
   "cell_type": "code",
   "execution_count": 19,
   "metadata": {},
   "outputs": [
    {
     "data": {
      "image/png": "[encoded data removed]",
      "text/plain": [
       "<Figure size 432x288 with 1 Axes>"
      ]
     },
     "metadata": {
      "needs_background": "light"
     },
     "output_type": "display_data"
    }
   ],
   "source": [
    "plt.plot(model_history.history['loss'], label='train loss')\n",
    "plt.plot(model_history.history['val_loss'], label='valid loss')\n",
    "plt.legend()\n",
    "plt.ylim(0, 500) \n",
    "plt.show()"
   ]
  },
  {
   "cell_type": "code",
   "execution_count": 20,
   "metadata": {},
   "outputs": [],
   "source": [
    "model.load_weights(checkpoint_filepath)"
   ]
  },
  {
   "cell_type": "code",
   "execution_count": 95,
   "metadata": {},
   "outputs": [],
   "source": [
    "def save_predictions():\n",
    "    files = glob(folder + 'point_folder\\\\test\\\\' + '*.png')\n",
    "    for file in files:\n",
    "        name = list(file.split('\\\\'))[-1]\n",
    "        picture = tf.io.read_file(RGBD_path + name)\n",
    "        picture = tf.image.decode_png(picture)\n",
    "        picture = tf.cast(picture, tf.float32)\n",
    "        input_pic = np.reshape(picture, (1,256,256,4))/255.0 # 4 channels for Y-shaped Tree, 3 for grapevine/trellis\n",
    "        prediction = model.predict(input_pic)#255here\n",
    "        cv2.imwrite(folder + 'time_test\\\\' + name, prediction)"
   ]
  },
  {
   "cell_type": "code",
   "execution_count": 1,
   "metadata": {},
   "outputs": [],
   "source": [
    "save_predictions()"
   ]
  }
 ],
 "metadata": {
  "kernelspec": {
   "display_name": "Python 3 (ipykernel)",
   "language": "python",
   "name": "python3"
  },
  "language_info": {
   "codemirror_mode": {
    "name": "ipython",
    "version": 3
   },
   "file_extension": ".py",
   "mimetype": "text/x-python",
   "name": "python",
   "nbconvert_exporter": "python",
   "pygments_lexer": "ipython3",
   "version": "3.9.12"
  }
 },
 "nbformat": 4,
 "nbformat_minor": 2
}
